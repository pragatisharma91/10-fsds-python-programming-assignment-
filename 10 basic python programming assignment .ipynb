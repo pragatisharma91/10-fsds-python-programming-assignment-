{
 "cells": [
  {
   "cell_type": "markdown",
   "id": "8c81fd44",
   "metadata": {},
   "source": [
    "1. Write a Python program to find sum of elements in list?"
   ]
  },
  {
   "cell_type": "code",
   "execution_count": 1,
   "id": "3873a731",
   "metadata": {},
   "outputs": [
    {
     "name": "stdout",
     "output_type": "stream",
     "text": [
      "60\n"
     ]
    }
   ],
   "source": [
    "l = [2, 4, 2, 8, 2, 8, 2, 9, 4, 1, 5, 6, 7]\n",
    "\n",
    "total = 0\n",
    "for i in l:\n",
    "    total += i\n",
    "    \n",
    "print(total)"
   ]
  },
  {
   "cell_type": "markdown",
   "id": "d1f3c6f8",
   "metadata": {},
   "source": [
    "2. Write a Python program to Multiply all numbers in the list?"
   ]
  },
  {
   "cell_type": "code",
   "execution_count": 3,
   "id": "cb7fef97",
   "metadata": {},
   "outputs": [
    {
     "name": "stdout",
     "output_type": "stream",
     "text": [
      "30965760\n"
     ]
    }
   ],
   "source": [
    "l = [2, 4, 2, 8, 2, 8, 2, 9, 4, 1, 5, 6, 7]\n",
    "\n",
    "total = 1\n",
    "for i in l:\n",
    "    total *= i\n",
    "    \n",
    "print(total)"
   ]
  },
  {
   "cell_type": "markdown",
   "id": "94574d49",
   "metadata": {},
   "source": [
    "3. Write a Python program to find smallest number in a list?"
   ]
  },
  {
   "cell_type": "code",
   "execution_count": 4,
   "id": "47b436dd",
   "metadata": {},
   "outputs": [
    {
     "name": "stdout",
     "output_type": "stream",
     "text": [
      "1\n"
     ]
    }
   ],
   "source": [
    "l = [2, 4, 2, 8, 2, 8, 2, 9, 4, 1, 5, 6, 7]\n",
    "\n",
    "minimum = l[0]\n",
    "for i in l:\n",
    "    if i < minimum:\n",
    "        minimum = i\n",
    "        \n",
    "print(minimum)"
   ]
  },
  {
   "cell_type": "markdown",
   "id": "4c5866b1",
   "metadata": {},
   "source": [
    "4. Write a Python program to find largest number in a list?"
   ]
  },
  {
   "cell_type": "code",
   "execution_count": 8,
   "id": "b60218cf",
   "metadata": {},
   "outputs": [
    {
     "name": "stdout",
     "output_type": "stream",
     "text": [
      "9\n"
     ]
    }
   ],
   "source": [
    "l = [2, 4, 2, 8, 2, 8, 2, 9, 4, 1, 5, 6, 7]\n",
    "\n",
    "maximum = l[0]\n",
    "for i in l:\n",
    "    if i > maximum:\n",
    "        maximum = i\n",
    "        \n",
    "print(maximum)"
   ]
  },
  {
   "cell_type": "markdown",
   "id": "53fe23c3",
   "metadata": {},
   "source": [
    "5. Write a Python program to find second largest number in a list?"
   ]
  },
  {
   "cell_type": "code",
   "execution_count": 9,
   "id": "7cd8f9de",
   "metadata": {},
   "outputs": [
    {
     "name": "stdout",
     "output_type": "stream",
     "text": [
      "Second largest number: 8\n"
     ]
    }
   ],
   "source": [
    "l = [2, 4, 2, 8, 2, 8, 2, 9, 4, 1, 5, 6, 7]\n",
    "l.sort(reverse=True)\n",
    "print(\"Second largest number:\", l[1])\n"
   ]
  },
  {
   "cell_type": "markdown",
   "id": "f7e598d6",
   "metadata": {},
   "source": [
    "6. Write a Python program to find N largest elements from a list?"
   ]
  },
  {
   "cell_type": "code",
   "execution_count": 10,
   "id": "b687c857",
   "metadata": {},
   "outputs": [
    {
     "data": {
      "text/plain": [
       "8"
      ]
     },
     "execution_count": 10,
     "metadata": {},
     "output_type": "execute_result"
    }
   ],
   "source": [
    "def findLarge(lst, n):\n",
    "    \n",
    "    lst.sort(reverse = True)\n",
    "    return lst[n-1]\n",
    "# 2nd Largest Element\n",
    "\n",
    "l = [2, 4, 2, 8, 2, 8, 2, 9, 4, 1, 5, 6, 7]\n",
    "findLarge(l, 2)\n"
   ]
  },
  {
   "cell_type": "markdown",
   "id": "782c6fd2",
   "metadata": {},
   "source": [
    "7. Write a Python program to print even numbers in a list?"
   ]
  },
  {
   "cell_type": "code",
   "execution_count": 12,
   "id": "bd8d55fa",
   "metadata": {},
   "outputs": [
    {
     "data": {
      "text/plain": [
       "[2, 4, 2, 8, 2, 8, 2, 4, 6]"
      ]
     },
     "execution_count": 12,
     "metadata": {},
     "output_type": "execute_result"
    }
   ],
   "source": [
    "l = [2, 4, 2, 8, 2, 8, 2, 9, 4, 1, 5, 6, 7]\n",
    "\n",
    "[ i for i in l if i%2 == 0]"
   ]
  },
  {
   "cell_type": "markdown",
   "id": "e72c0c32",
   "metadata": {},
   "source": [
    "8. Write a Python program to print odd numbers in a List?"
   ]
  },
  {
   "cell_type": "code",
   "execution_count": 15,
   "id": "d6e79129",
   "metadata": {},
   "outputs": [
    {
     "data": {
      "text/plain": [
       "[9, 1, 5, 7]"
      ]
     },
     "execution_count": 15,
     "metadata": {},
     "output_type": "execute_result"
    }
   ],
   "source": [
    "l = [2, 4, 2, 8, 2, 8, 2, 9, 4, 1, 5, 6, 7]\n",
    "\n",
    "[ i for i in l if i%2 == 1]"
   ]
  },
  {
   "cell_type": "markdown",
   "id": "bea3ba74",
   "metadata": {},
   "source": [
    "9. Write a Python program to Remove empty List from List?"
   ]
  },
  {
   "cell_type": "code",
   "execution_count": 16,
   "id": "6e38f8d9",
   "metadata": {},
   "outputs": [
    {
     "data": {
      "text/plain": [
       "[12, 31, [1, 2, -23], [1], [123.23], 2, 321]"
      ]
     },
     "execution_count": 16,
     "metadata": {},
     "output_type": "execute_result"
    }
   ],
   "source": [
    "l = [[], 12, 31, [1,2, -23] , [1], [], [123.23], [], 2, 321]\n",
    "\n",
    "result = []\n",
    "for i in l:\n",
    "    if type(i) == list:\n",
    "        if len(i) != 0:\n",
    "            result.append(i)\n",
    "    else:\n",
    "        result.append(i)\n",
    "\n",
    "result\n",
    "         "
   ]
  }
 ],
 "metadata": {
  "kernelspec": {
   "display_name": "Python 3 (ipykernel)",
   "language": "python",
   "name": "python3"
  },
  "language_info": {
   "codemirror_mode": {
    "name": "ipython",
    "version": 3
   },
   "file_extension": ".py",
   "mimetype": "text/x-python",
   "name": "python",
   "nbconvert_exporter": "python",
   "pygments_lexer": "ipython3",
   "version": "3.11.4"
  }
 },
 "nbformat": 4,
 "nbformat_minor": 5
}
